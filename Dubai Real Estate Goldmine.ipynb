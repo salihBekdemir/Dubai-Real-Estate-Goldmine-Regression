{
 "cells": [
  {
   "cell_type": "markdown",
   "id": "f86281d0",
   "metadata": {},
   "source": [
    "# Dubai Real Estate Goldmine"
   ]
  },
  {
   "cell_type": "markdown",
   "id": "3655cab1",
   "metadata": {},
   "source": [
    "### In this lesson, we will analyze the rental prices in Dubai and train a prediction model"
   ]
  },
  {
   "cell_type": "markdown",
   "id": "55131fc5",
   "metadata": {},
   "source": [
    "<a href='https://www.kaggle.com/datasets/azharsaleem/real-estate-goldmine-dubai-uae-rental-market/data' target=_blank>You can find the data file here</a>"
   ]
  },
  {
   "cell_type": "markdown",
   "id": "72e3a647",
   "metadata": {},
   "source": [
    "<img src=https://cdnp.flypgs.com/files/Sehirler-long-tail/Dubai/dubai-sehir.jpg width='600'>"
   ]
  },
  {
   "cell_type": "code",
   "execution_count": 1,
   "id": "b02f83e6",
   "metadata": {},
   "outputs": [],
   "source": [
    "import pandas as pd\n",
    "import numpy as np\n",
    "import matplotlib.pyplot as plt\n",
    "import seaborn as sns\n",
    "import warnings\n",
    "warnings.filterwarnings(\"ignore\")\n",
    "pd.set_option(\"display.max_columns\",100)\n",
    "pd.set_option(\"display.max_rows\",100)"
   ]
  },
  {
   "cell_type": "code",
   "execution_count": 2,
   "id": "d7331dc4",
   "metadata": {},
   "outputs": [],
   "source": [
    "df=pd.read_csv('dubai_properties.csv')"
   ]
  },
  {
   "cell_type": "code",
   "execution_count": 3,
   "id": "57aaee23",
   "metadata": {},
   "outputs": [
    {
     "data": {
      "text/html": [
       "<div>\n",
       "<style scoped>\n",
       "    .dataframe tbody tr th:only-of-type {\n",
       "        vertical-align: middle;\n",
       "    }\n",
       "\n",
       "    .dataframe tbody tr th {\n",
       "        vertical-align: top;\n",
       "    }\n",
       "\n",
       "    .dataframe thead th {\n",
       "        text-align: right;\n",
       "    }\n",
       "</style>\n",
       "<table border=\"1\" class=\"dataframe\">\n",
       "  <thead>\n",
       "    <tr style=\"text-align: right;\">\n",
       "      <th></th>\n",
       "      <th>Address</th>\n",
       "      <th>Rent</th>\n",
       "      <th>Beds</th>\n",
       "      <th>Baths</th>\n",
       "      <th>Type</th>\n",
       "      <th>Area_in_sqft</th>\n",
       "      <th>Rent_per_sqft</th>\n",
       "      <th>Rent_category</th>\n",
       "      <th>Frequency</th>\n",
       "      <th>Furnishing</th>\n",
       "      <th>Purpose</th>\n",
       "      <th>Posted_date</th>\n",
       "      <th>Age_of_listing_in_days</th>\n",
       "      <th>Location</th>\n",
       "      <th>City</th>\n",
       "      <th>Latitude</th>\n",
       "      <th>Longitude</th>\n",
       "    </tr>\n",
       "  </thead>\n",
       "  <tbody>\n",
       "    <tr>\n",
       "      <th>0</th>\n",
       "      <td>The Gate Tower 2, The Gate Tower, Shams Gate D...</td>\n",
       "      <td>124000</td>\n",
       "      <td>3</td>\n",
       "      <td>4</td>\n",
       "      <td>Apartment</td>\n",
       "      <td>1785</td>\n",
       "      <td>69.467787</td>\n",
       "      <td>Medium</td>\n",
       "      <td>Yearly</td>\n",
       "      <td>Unfurnished</td>\n",
       "      <td>For Rent</td>\n",
       "      <td>2024-03-07</td>\n",
       "      <td>45</td>\n",
       "      <td>Al Reem Island</td>\n",
       "      <td>Abu Dhabi</td>\n",
       "      <td>24.493598</td>\n",
       "      <td>54.407841</td>\n",
       "    </tr>\n",
       "    <tr>\n",
       "      <th>1</th>\n",
       "      <td>Water's Edge, Yas Island, Abu Dhabi</td>\n",
       "      <td>140000</td>\n",
       "      <td>3</td>\n",
       "      <td>4</td>\n",
       "      <td>Apartment</td>\n",
       "      <td>1422</td>\n",
       "      <td>98.452883</td>\n",
       "      <td>Medium</td>\n",
       "      <td>Yearly</td>\n",
       "      <td>Unfurnished</td>\n",
       "      <td>For Rent</td>\n",
       "      <td>2024-03-08</td>\n",
       "      <td>44</td>\n",
       "      <td>Yas Island</td>\n",
       "      <td>Abu Dhabi</td>\n",
       "      <td>24.494022</td>\n",
       "      <td>54.607372</td>\n",
       "    </tr>\n",
       "    <tr>\n",
       "      <th>2</th>\n",
       "      <td>Al Raha Lofts, Al Raha Beach, Abu Dhabi</td>\n",
       "      <td>99000</td>\n",
       "      <td>2</td>\n",
       "      <td>3</td>\n",
       "      <td>Apartment</td>\n",
       "      <td>1314</td>\n",
       "      <td>75.342466</td>\n",
       "      <td>Medium</td>\n",
       "      <td>Yearly</td>\n",
       "      <td>Furnished</td>\n",
       "      <td>For Rent</td>\n",
       "      <td>2024-03-21</td>\n",
       "      <td>31</td>\n",
       "      <td>Al Raha Beach</td>\n",
       "      <td>Abu Dhabi</td>\n",
       "      <td>24.485931</td>\n",
       "      <td>54.600939</td>\n",
       "    </tr>\n",
       "    <tr>\n",
       "      <th>3</th>\n",
       "      <td>Marina Heights, Marina Square, Al Reem Island,...</td>\n",
       "      <td>220000</td>\n",
       "      <td>3</td>\n",
       "      <td>4</td>\n",
       "      <td>Penthouse</td>\n",
       "      <td>3843</td>\n",
       "      <td>57.246942</td>\n",
       "      <td>High</td>\n",
       "      <td>Yearly</td>\n",
       "      <td>Unfurnished</td>\n",
       "      <td>For Rent</td>\n",
       "      <td>2024-02-24</td>\n",
       "      <td>57</td>\n",
       "      <td>Al Reem Island</td>\n",
       "      <td>Abu Dhabi</td>\n",
       "      <td>24.493598</td>\n",
       "      <td>54.407841</td>\n",
       "    </tr>\n",
       "    <tr>\n",
       "      <th>4</th>\n",
       "      <td>West Yas, Yas Island, Abu Dhabi</td>\n",
       "      <td>350000</td>\n",
       "      <td>5</td>\n",
       "      <td>7</td>\n",
       "      <td>Villa</td>\n",
       "      <td>6860</td>\n",
       "      <td>51.020408</td>\n",
       "      <td>High</td>\n",
       "      <td>Yearly</td>\n",
       "      <td>Unfurnished</td>\n",
       "      <td>For Rent</td>\n",
       "      <td>2024-02-16</td>\n",
       "      <td>65</td>\n",
       "      <td>Yas Island</td>\n",
       "      <td>Abu Dhabi</td>\n",
       "      <td>24.494022</td>\n",
       "      <td>54.607372</td>\n",
       "    </tr>\n",
       "  </tbody>\n",
       "</table>\n",
       "</div>"
      ],
      "text/plain": [
       "                                             Address    Rent  Beds  Baths  \\\n",
       "0  The Gate Tower 2, The Gate Tower, Shams Gate D...  124000     3      4   \n",
       "1                Water's Edge, Yas Island, Abu Dhabi  140000     3      4   \n",
       "2            Al Raha Lofts, Al Raha Beach, Abu Dhabi   99000     2      3   \n",
       "3  Marina Heights, Marina Square, Al Reem Island,...  220000     3      4   \n",
       "4                    West Yas, Yas Island, Abu Dhabi  350000     5      7   \n",
       "\n",
       "        Type  Area_in_sqft  Rent_per_sqft Rent_category Frequency  \\\n",
       "0  Apartment          1785      69.467787        Medium    Yearly   \n",
       "1  Apartment          1422      98.452883        Medium    Yearly   \n",
       "2  Apartment          1314      75.342466        Medium    Yearly   \n",
       "3  Penthouse          3843      57.246942          High    Yearly   \n",
       "4      Villa          6860      51.020408          High    Yearly   \n",
       "\n",
       "    Furnishing   Purpose Posted_date  Age_of_listing_in_days        Location  \\\n",
       "0  Unfurnished  For Rent  2024-03-07                      45  Al Reem Island   \n",
       "1  Unfurnished  For Rent  2024-03-08                      44      Yas Island   \n",
       "2    Furnished  For Rent  2024-03-21                      31   Al Raha Beach   \n",
       "3  Unfurnished  For Rent  2024-02-24                      57  Al Reem Island   \n",
       "4  Unfurnished  For Rent  2024-02-16                      65      Yas Island   \n",
       "\n",
       "        City   Latitude  Longitude  \n",
       "0  Abu Dhabi  24.493598  54.407841  \n",
       "1  Abu Dhabi  24.494022  54.607372  \n",
       "2  Abu Dhabi  24.485931  54.600939  \n",
       "3  Abu Dhabi  24.493598  54.407841  \n",
       "4  Abu Dhabi  24.494022  54.607372  "
      ]
     },
     "execution_count": 3,
     "metadata": {},
     "output_type": "execute_result"
    }
   ],
   "source": [
    "df.head()"
   ]
  },
  {
   "cell_type": "code",
   "execution_count": 4,
   "id": "e11efe03",
   "metadata": {},
   "outputs": [],
   "source": [
    "import seaborn as sns"
   ]
  },
  {
   "cell_type": "code",
   "execution_count": 5,
   "id": "d5650fee",
   "metadata": {},
   "outputs": [
    {
     "data": {
      "image/png": "[encoded data removed]",
      "text/plain": [
       "<Figure size 640x480 with 1 Axes>"
      ]
     },
     "metadata": {},
     "output_type": "display_data"
    }
   ],
   "source": [
    "\n",
    "sns.countplot(x=df['Type']);\n",
    "plt.xticks(rotation=90)\n",
    "plt.show()"
   ]
  },
  {
   "cell_type": "code",
   "execution_count": 6,
   "id": "0fe6c25f",
   "metadata": {},
   "outputs": [
    {
     "data": {
      "text/plain": [
       "<Axes: ylabel='count'>"
      ]
     },
     "execution_count": 6,
     "metadata": {},
     "output_type": "execute_result"
    },
    {
     "data": {
      "image/png": "[encoded data removed]",
      "text/plain": [
       "<Figure size 640x480 with 1 Axes>"
      ]
     },
     "metadata": {},
     "output_type": "display_data"
    }
   ],
   "source": [
    "df['Rent_category'].value_counts().plot.pie(autopct='%1.1f%%')"
   ]
  },
  {
   "cell_type": "code",
   "execution_count": 7,
   "id": "569db74a",
   "metadata": {},
   "outputs": [
    {
     "data": {
      "image/png": "[encoded data removed]",
      "text/plain": [
       "<Figure size 640x480 with 1 Axes>"
      ]
     },
     "metadata": {},
     "output_type": "display_data"
    }
   ],
   "source": [
    "sns.countplot(x=df['Rent_category'],hue=df.City)\n",
    "plt.xticks(rotation=90);"
   ]
  },
  {
   "cell_type": "code",
   "execution_count": 8,
   "id": "32446048",
   "metadata": {},
   "outputs": [
    {
     "data": {
      "text/plain": [
       "(73742, 17)"
      ]
     },
     "execution_count": 8,
     "metadata": {},
     "output_type": "execute_result"
    }
   ],
   "source": [
    "df.shape"
   ]
  },
  {
   "cell_type": "code",
   "execution_count": 9,
   "id": "8707c61d",
   "metadata": {},
   "outputs": [
    {
     "data": {
      "text/plain": [
       "Address                     0\n",
       "Rent                        0\n",
       "Beds                        0\n",
       "Baths                       0\n",
       "Type                        0\n",
       "Area_in_sqft                0\n",
       "Rent_per_sqft               0\n",
       "Rent_category               0\n",
       "Frequency                   0\n",
       "Furnishing                  0\n",
       "Purpose                     0\n",
       "Posted_date                 0\n",
       "Age_of_listing_in_days      0\n",
       "Location                    0\n",
       "City                        0\n",
       "Latitude                  719\n",
       "Longitude                 719\n",
       "dtype: int64"
      ]
     },
     "execution_count": 9,
     "metadata": {},
     "output_type": "execute_result"
    }
   ],
   "source": [
    "df.isnull().sum()"
   ]
  },
  {
   "cell_type": "code",
   "execution_count": 10,
   "id": "d482ed56",
   "metadata": {},
   "outputs": [],
   "source": [
    "df['Latitude'] = df['Latitude'].fillna(df['Latitude'].mean())\n",
    "df['Longitude'] = df['Longitude'].fillna(df['Longitude'].mean())"
   ]
  },
  {
   "cell_type": "code",
   "execution_count": 11,
   "id": "c2c09153",
   "metadata": {},
   "outputs": [
    {
     "name": "stdout",
     "output_type": "stream",
     "text": [
      "<class 'pandas.core.frame.DataFrame'>\n",
      "RangeIndex: 73742 entries, 0 to 73741\n",
      "Data columns (total 17 columns):\n",
      " #   Column                  Non-Null Count  Dtype  \n",
      "---  ------                  --------------  -----  \n",
      " 0   Address                 73742 non-null  object \n",
      " 1   Rent                    73742 non-null  int64  \n",
      " 2   Beds                    73742 non-null  int64  \n",
      " 3   Baths                   73742 non-null  int64  \n",
      " 4   Type                    73742 non-null  object \n",
      " 5   Area_in_sqft            73742 non-null  int64  \n",
      " 6   Rent_per_sqft           73742 non-null  float64\n",
      " 7   Rent_category           73742 non-null  object \n",
      " 8   Frequency               73742 non-null  object \n",
      " 9   Furnishing              73742 non-null  object \n",
      " 10  Purpose                 73742 non-null  object \n",
      " 11  Posted_date             73742 non-null  object \n",
      " 12  Age_of_listing_in_days  73742 non-null  int64  \n",
      " 13  Location                73742 non-null  object \n",
      " 14  City                    73742 non-null  object \n",
      " 15  Latitude                73742 non-null  float64\n",
      " 16  Longitude               73742 non-null  float64\n",
      "dtypes: float64(3), int64(5), object(9)\n",
      "memory usage: 9.6+ MB\n"
     ]
    }
   ],
   "source": [
    "df.info()"
   ]
  },
  {
   "cell_type": "code",
   "execution_count": 12,
   "id": "4e1b82e0",
   "metadata": {},
   "outputs": [
    {
     "data": {
      "text/plain": [
       "Rent_category\n",
       "Medium    25088\n",
       "High      24407\n",
       "Low       24247\n",
       "Name: count, dtype: int64"
      ]
     },
     "execution_count": 12,
     "metadata": {},
     "output_type": "execute_result"
    }
   ],
   "source": [
    "df['Rent_category'].value_counts()"
   ]
  },
  {
   "cell_type": "code",
   "execution_count": 13,
   "id": "4b478e60",
   "metadata": {},
   "outputs": [],
   "source": [
    "e={'Apartment': 0, 'Villa': 1,'Townhouse':2,'Hotel Apartment':3,'Penthouse':4,'Villa Compound':5,\n",
    "  'Residential Building':6,'Residential Floor':7,'Residential Plot':8}"
   ]
  },
  {
   "cell_type": "code",
   "execution_count": 14,
   "id": "d5e1b4a9",
   "metadata": {},
   "outputs": [],
   "source": [
    "df['Type']=df['Type'].map(e)"
   ]
  },
  {
   "cell_type": "code",
   "execution_count": 15,
   "id": "6b2f4b06",
   "metadata": {},
   "outputs": [],
   "source": [
    "f={'Medium':0,'High':1,'Low':2}"
   ]
  },
  {
   "cell_type": "code",
   "execution_count": 16,
   "id": "da2ed3bc",
   "metadata": {},
   "outputs": [],
   "source": [
    "df['Rent_category']=df['Rent_category'].map(f)"
   ]
  },
  {
   "cell_type": "code",
   "execution_count": 17,
   "id": "3be526bd",
   "metadata": {},
   "outputs": [],
   "source": [
    "g={'Unfurnished':0,'Furnished':1}"
   ]
  },
  {
   "cell_type": "code",
   "execution_count": 18,
   "id": "7cddf755",
   "metadata": {},
   "outputs": [],
   "source": [
    "df['Furnishing']=df['Furnishing'].map(g)"
   ]
  },
  {
   "cell_type": "code",
   "execution_count": 19,
   "id": "642d3faf",
   "metadata": {},
   "outputs": [
    {
     "data": {
      "text/html": [
       "<div>\n",
       "<style scoped>\n",
       "    .dataframe tbody tr th:only-of-type {\n",
       "        vertical-align: middle;\n",
       "    }\n",
       "\n",
       "    .dataframe tbody tr th {\n",
       "        vertical-align: top;\n",
       "    }\n",
       "\n",
       "    .dataframe thead th {\n",
       "        text-align: right;\n",
       "    }\n",
       "</style>\n",
       "<table border=\"1\" class=\"dataframe\">\n",
       "  <thead>\n",
       "    <tr style=\"text-align: right;\">\n",
       "      <th></th>\n",
       "      <th>Address</th>\n",
       "      <th>Rent</th>\n",
       "      <th>Beds</th>\n",
       "      <th>Baths</th>\n",
       "      <th>Type</th>\n",
       "      <th>Area_in_sqft</th>\n",
       "      <th>Rent_per_sqft</th>\n",
       "      <th>Rent_category</th>\n",
       "      <th>Frequency</th>\n",
       "      <th>Furnishing</th>\n",
       "      <th>Purpose</th>\n",
       "      <th>Posted_date</th>\n",
       "      <th>Age_of_listing_in_days</th>\n",
       "      <th>Location</th>\n",
       "      <th>City</th>\n",
       "      <th>Latitude</th>\n",
       "      <th>Longitude</th>\n",
       "    </tr>\n",
       "  </thead>\n",
       "  <tbody>\n",
       "    <tr>\n",
       "      <th>0</th>\n",
       "      <td>The Gate Tower 2, The Gate Tower, Shams Gate D...</td>\n",
       "      <td>124000</td>\n",
       "      <td>3</td>\n",
       "      <td>4</td>\n",
       "      <td>0</td>\n",
       "      <td>1785</td>\n",
       "      <td>69.467787</td>\n",
       "      <td>0</td>\n",
       "      <td>Yearly</td>\n",
       "      <td>0</td>\n",
       "      <td>For Rent</td>\n",
       "      <td>2024-03-07</td>\n",
       "      <td>45</td>\n",
       "      <td>Al Reem Island</td>\n",
       "      <td>Abu Dhabi</td>\n",
       "      <td>24.493598</td>\n",
       "      <td>54.407841</td>\n",
       "    </tr>\n",
       "    <tr>\n",
       "      <th>1</th>\n",
       "      <td>Water's Edge, Yas Island, Abu Dhabi</td>\n",
       "      <td>140000</td>\n",
       "      <td>3</td>\n",
       "      <td>4</td>\n",
       "      <td>0</td>\n",
       "      <td>1422</td>\n",
       "      <td>98.452883</td>\n",
       "      <td>0</td>\n",
       "      <td>Yearly</td>\n",
       "      <td>0</td>\n",
       "      <td>For Rent</td>\n",
       "      <td>2024-03-08</td>\n",
       "      <td>44</td>\n",
       "      <td>Yas Island</td>\n",
       "      <td>Abu Dhabi</td>\n",
       "      <td>24.494022</td>\n",
       "      <td>54.607372</td>\n",
       "    </tr>\n",
       "    <tr>\n",
       "      <th>2</th>\n",
       "      <td>Al Raha Lofts, Al Raha Beach, Abu Dhabi</td>\n",
       "      <td>99000</td>\n",
       "      <td>2</td>\n",
       "      <td>3</td>\n",
       "      <td>0</td>\n",
       "      <td>1314</td>\n",
       "      <td>75.342466</td>\n",
       "      <td>0</td>\n",
       "      <td>Yearly</td>\n",
       "      <td>1</td>\n",
       "      <td>For Rent</td>\n",
       "      <td>2024-03-21</td>\n",
       "      <td>31</td>\n",
       "      <td>Al Raha Beach</td>\n",
       "      <td>Abu Dhabi</td>\n",
       "      <td>24.485931</td>\n",
       "      <td>54.600939</td>\n",
       "    </tr>\n",
       "    <tr>\n",
       "      <th>3</th>\n",
       "      <td>Marina Heights, Marina Square, Al Reem Island,...</td>\n",
       "      <td>220000</td>\n",
       "      <td>3</td>\n",
       "      <td>4</td>\n",
       "      <td>4</td>\n",
       "      <td>3843</td>\n",
       "      <td>57.246942</td>\n",
       "      <td>1</td>\n",
       "      <td>Yearly</td>\n",
       "      <td>0</td>\n",
       "      <td>For Rent</td>\n",
       "      <td>2024-02-24</td>\n",
       "      <td>57</td>\n",
       "      <td>Al Reem Island</td>\n",
       "      <td>Abu Dhabi</td>\n",
       "      <td>24.493598</td>\n",
       "      <td>54.407841</td>\n",
       "    </tr>\n",
       "    <tr>\n",
       "      <th>4</th>\n",
       "      <td>West Yas, Yas Island, Abu Dhabi</td>\n",
       "      <td>350000</td>\n",
       "      <td>5</td>\n",
       "      <td>7</td>\n",
       "      <td>1</td>\n",
       "      <td>6860</td>\n",
       "      <td>51.020408</td>\n",
       "      <td>1</td>\n",
       "      <td>Yearly</td>\n",
       "      <td>0</td>\n",
       "      <td>For Rent</td>\n",
       "      <td>2024-02-16</td>\n",
       "      <td>65</td>\n",
       "      <td>Yas Island</td>\n",
       "      <td>Abu Dhabi</td>\n",
       "      <td>24.494022</td>\n",
       "      <td>54.607372</td>\n",
       "    </tr>\n",
       "  </tbody>\n",
       "</table>\n",
       "</div>"
      ],
      "text/plain": [
       "                                             Address    Rent  Beds  Baths  \\\n",
       "0  The Gate Tower 2, The Gate Tower, Shams Gate D...  124000     3      4   \n",
       "1                Water's Edge, Yas Island, Abu Dhabi  140000     3      4   \n",
       "2            Al Raha Lofts, Al Raha Beach, Abu Dhabi   99000     2      3   \n",
       "3  Marina Heights, Marina Square, Al Reem Island,...  220000     3      4   \n",
       "4                    West Yas, Yas Island, Abu Dhabi  350000     5      7   \n",
       "\n",
       "   Type  Area_in_sqft  Rent_per_sqft  Rent_category Frequency  Furnishing  \\\n",
       "0     0          1785      69.467787              0    Yearly           0   \n",
       "1     0          1422      98.452883              0    Yearly           0   \n",
       "2     0          1314      75.342466              0    Yearly           1   \n",
       "3     4          3843      57.246942              1    Yearly           0   \n",
       "4     1          6860      51.020408              1    Yearly           0   \n",
       "\n",
       "    Purpose Posted_date  Age_of_listing_in_days        Location       City  \\\n",
       "0  For Rent  2024-03-07                      45  Al Reem Island  Abu Dhabi   \n",
       "1  For Rent  2024-03-08                      44      Yas Island  Abu Dhabi   \n",
       "2  For Rent  2024-03-21                      31   Al Raha Beach  Abu Dhabi   \n",
       "3  For Rent  2024-02-24                      57  Al Reem Island  Abu Dhabi   \n",
       "4  For Rent  2024-02-16                      65      Yas Island  Abu Dhabi   \n",
       "\n",
       "    Latitude  Longitude  \n",
       "0  24.493598  54.407841  \n",
       "1  24.494022  54.607372  \n",
       "2  24.485931  54.600939  \n",
       "3  24.493598  54.407841  \n",
       "4  24.494022  54.607372  "
      ]
     },
     "execution_count": 19,
     "metadata": {},
     "output_type": "execute_result"
    }
   ],
   "source": [
    "df.head()"
   ]
  },
  {
   "cell_type": "code",
   "execution_count": 20,
   "id": "5c39011b",
   "metadata": {},
   "outputs": [
    {
     "data": {
      "text/html": [
       "<div>\n",
       "<style scoped>\n",
       "    .dataframe tbody tr th:only-of-type {\n",
       "        vertical-align: middle;\n",
       "    }\n",
       "\n",
       "    .dataframe tbody tr th {\n",
       "        vertical-align: top;\n",
       "    }\n",
       "\n",
       "    .dataframe thead th {\n",
       "        text-align: right;\n",
       "    }\n",
       "</style>\n",
       "<table border=\"1\" class=\"dataframe\">\n",
       "  <thead>\n",
       "    <tr style=\"text-align: right;\">\n",
       "      <th></th>\n",
       "      <th>Rent</th>\n",
       "      <th>Beds</th>\n",
       "      <th>Baths</th>\n",
       "      <th>Type</th>\n",
       "      <th>Area_in_sqft</th>\n",
       "      <th>Rent_per_sqft</th>\n",
       "      <th>Rent_category</th>\n",
       "      <th>Furnishing</th>\n",
       "      <th>Age_of_listing_in_days</th>\n",
       "      <th>Latitude</th>\n",
       "      <th>Longitude</th>\n",
       "    </tr>\n",
       "  </thead>\n",
       "  <tbody>\n",
       "    <tr>\n",
       "      <th>Rent</th>\n",
       "      <td>1.000000</td>\n",
       "      <td>0.309589</td>\n",
       "      <td>0.080591</td>\n",
       "      <td>0.221997</td>\n",
       "      <td>0.405517</td>\n",
       "      <td>0.348656</td>\n",
       "      <td>-0.074506</td>\n",
       "      <td>0.097735</td>\n",
       "      <td>0.000885</td>\n",
       "      <td>0.027818</td>\n",
       "      <td>0.007516</td>\n",
       "    </tr>\n",
       "    <tr>\n",
       "      <th>Beds</th>\n",
       "      <td>0.309589</td>\n",
       "      <td>1.000000</td>\n",
       "      <td>0.752152</td>\n",
       "      <td>0.521396</td>\n",
       "      <td>0.603437</td>\n",
       "      <td>-0.175097</td>\n",
       "      <td>-0.269137</td>\n",
       "      <td>-0.191713</td>\n",
       "      <td>0.049681</td>\n",
       "      <td>-0.121073</td>\n",
       "      <td>-0.073702</td>\n",
       "    </tr>\n",
       "    <tr>\n",
       "      <th>Baths</th>\n",
       "      <td>0.080591</td>\n",
       "      <td>0.752152</td>\n",
       "      <td>1.000000</td>\n",
       "      <td>0.361923</td>\n",
       "      <td>0.473173</td>\n",
       "      <td>-0.246572</td>\n",
       "      <td>-0.292043</td>\n",
       "      <td>-0.174954</td>\n",
       "      <td>0.052536</td>\n",
       "      <td>-0.211196</td>\n",
       "      <td>-0.163747</td>\n",
       "    </tr>\n",
       "    <tr>\n",
       "      <th>Type</th>\n",
       "      <td>0.221997</td>\n",
       "      <td>0.521396</td>\n",
       "      <td>0.361923</td>\n",
       "      <td>1.000000</td>\n",
       "      <td>0.388575</td>\n",
       "      <td>-0.074388</td>\n",
       "      <td>-0.146039</td>\n",
       "      <td>-0.088738</td>\n",
       "      <td>-0.001778</td>\n",
       "      <td>-0.070050</td>\n",
       "      <td>-0.035788</td>\n",
       "    </tr>\n",
       "    <tr>\n",
       "      <th>Area_in_sqft</th>\n",
       "      <td>0.405517</td>\n",
       "      <td>0.603437</td>\n",
       "      <td>0.473173</td>\n",
       "      <td>0.388575</td>\n",
       "      <td>1.000000</td>\n",
       "      <td>-0.164866</td>\n",
       "      <td>-0.096769</td>\n",
       "      <td>-0.110691</td>\n",
       "      <td>0.016516</td>\n",
       "      <td>-0.066539</td>\n",
       "      <td>-0.041743</td>\n",
       "    </tr>\n",
       "    <tr>\n",
       "      <th>Rent_per_sqft</th>\n",
       "      <td>0.348656</td>\n",
       "      <td>-0.175097</td>\n",
       "      <td>-0.246572</td>\n",
       "      <td>-0.074388</td>\n",
       "      <td>-0.164866</td>\n",
       "      <td>1.000000</td>\n",
       "      <td>-0.200548</td>\n",
       "      <td>0.491208</td>\n",
       "      <td>-0.055062</td>\n",
       "      <td>0.159733</td>\n",
       "      <td>0.084221</td>\n",
       "    </tr>\n",
       "    <tr>\n",
       "      <th>Rent_category</th>\n",
       "      <td>-0.074506</td>\n",
       "      <td>-0.269137</td>\n",
       "      <td>-0.292043</td>\n",
       "      <td>-0.146039</td>\n",
       "      <td>-0.096769</td>\n",
       "      <td>-0.200548</td>\n",
       "      <td>1.000000</td>\n",
       "      <td>-0.135598</td>\n",
       "      <td>0.025069</td>\n",
       "      <td>0.095944</td>\n",
       "      <td>0.123887</td>\n",
       "    </tr>\n",
       "    <tr>\n",
       "      <th>Furnishing</th>\n",
       "      <td>0.097735</td>\n",
       "      <td>-0.191713</td>\n",
       "      <td>-0.174954</td>\n",
       "      <td>-0.088738</td>\n",
       "      <td>-0.110691</td>\n",
       "      <td>0.491208</td>\n",
       "      <td>-0.135598</td>\n",
       "      <td>1.000000</td>\n",
       "      <td>-0.047341</td>\n",
       "      <td>0.132304</td>\n",
       "      <td>0.083216</td>\n",
       "    </tr>\n",
       "    <tr>\n",
       "      <th>Age_of_listing_in_days</th>\n",
       "      <td>0.000885</td>\n",
       "      <td>0.049681</td>\n",
       "      <td>0.052536</td>\n",
       "      <td>-0.001778</td>\n",
       "      <td>0.016516</td>\n",
       "      <td>-0.055062</td>\n",
       "      <td>0.025069</td>\n",
       "      <td>-0.047341</td>\n",
       "      <td>1.000000</td>\n",
       "      <td>-0.073681</td>\n",
       "      <td>-0.054019</td>\n",
       "    </tr>\n",
       "    <tr>\n",
       "      <th>Latitude</th>\n",
       "      <td>0.027818</td>\n",
       "      <td>-0.121073</td>\n",
       "      <td>-0.211196</td>\n",
       "      <td>-0.070050</td>\n",
       "      <td>-0.066539</td>\n",
       "      <td>0.159733</td>\n",
       "      <td>0.095944</td>\n",
       "      <td>0.132304</td>\n",
       "      <td>-0.073681</td>\n",
       "      <td>1.000000</td>\n",
       "      <td>0.916877</td>\n",
       "    </tr>\n",
       "    <tr>\n",
       "      <th>Longitude</th>\n",
       "      <td>0.007516</td>\n",
       "      <td>-0.073702</td>\n",
       "      <td>-0.163747</td>\n",
       "      <td>-0.035788</td>\n",
       "      <td>-0.041743</td>\n",
       "      <td>0.084221</td>\n",
       "      <td>0.123887</td>\n",
       "      <td>0.083216</td>\n",
       "      <td>-0.054019</td>\n",
       "      <td>0.916877</td>\n",
       "      <td>1.000000</td>\n",
       "    </tr>\n",
       "  </tbody>\n",
       "</table>\n",
       "</div>"
      ],
      "text/plain": [
       "                            Rent      Beds     Baths      Type  Area_in_sqft  \\\n",
       "Rent                    1.000000  0.309589  0.080591  0.221997      0.405517   \n",
       "Beds                    0.309589  1.000000  0.752152  0.521396      0.603437   \n",
       "Baths                   0.080591  0.752152  1.000000  0.361923      0.473173   \n",
       "Type                    0.221997  0.521396  0.361923  1.000000      0.388575   \n",
       "Area_in_sqft            0.405517  0.603437  0.473173  0.388575      1.000000   \n",
       "Rent_per_sqft           0.348656 -0.175097 -0.246572 -0.074388     -0.164866   \n",
       "Rent_category          -0.074506 -0.269137 -0.292043 -0.146039     -0.096769   \n",
       "Furnishing              0.097735 -0.191713 -0.174954 -0.088738     -0.110691   \n",
       "Age_of_listing_in_days  0.000885  0.049681  0.052536 -0.001778      0.016516   \n",
       "Latitude                0.027818 -0.121073 -0.211196 -0.070050     -0.066539   \n",
       "Longitude               0.007516 -0.073702 -0.163747 -0.035788     -0.041743   \n",
       "\n",
       "                        Rent_per_sqft  Rent_category  Furnishing  \\\n",
       "Rent                         0.348656      -0.074506    0.097735   \n",
       "Beds                        -0.175097      -0.269137   -0.191713   \n",
       "Baths                       -0.246572      -0.292043   -0.174954   \n",
       "Type                        -0.074388      -0.146039   -0.088738   \n",
       "Area_in_sqft                -0.164866      -0.096769   -0.110691   \n",
       "Rent_per_sqft                1.000000      -0.200548    0.491208   \n",
       "Rent_category               -0.200548       1.000000   -0.135598   \n",
       "Furnishing                   0.491208      -0.135598    1.000000   \n",
       "Age_of_listing_in_days      -0.055062       0.025069   -0.047341   \n",
       "Latitude                     0.159733       0.095944    0.132304   \n",
       "Longitude                    0.084221       0.123887    0.083216   \n",
       "\n",
       "                        Age_of_listing_in_days  Latitude  Longitude  \n",
       "Rent                                  0.000885  0.027818   0.007516  \n",
       "Beds                                  0.049681 -0.121073  -0.073702  \n",
       "Baths                                 0.052536 -0.211196  -0.163747  \n",
       "Type                                 -0.001778 -0.070050  -0.035788  \n",
       "Area_in_sqft                          0.016516 -0.066539  -0.041743  \n",
       "Rent_per_sqft                        -0.055062  0.159733   0.084221  \n",
       "Rent_category                         0.025069  0.095944   0.123887  \n",
       "Furnishing                           -0.047341  0.132304   0.083216  \n",
       "Age_of_listing_in_days                1.000000 -0.073681  -0.054019  \n",
       "Latitude                             -0.073681  1.000000   0.916877  \n",
       "Longitude                            -0.054019  0.916877   1.000000  "
      ]
     },
     "execution_count": 20,
     "metadata": {},
     "output_type": "execute_result"
    }
   ],
   "source": [
    "df.corr(numeric_only=True)"
   ]
  },
  {
   "cell_type": "code",
   "execution_count": 21,
   "id": "eb40ffab",
   "metadata": {},
   "outputs": [
    {
     "data": {
      "text/html": [
       "<div>\n",
       "<style scoped>\n",
       "    .dataframe tbody tr th:only-of-type {\n",
       "        vertical-align: middle;\n",
       "    }\n",
       "\n",
       "    .dataframe tbody tr th {\n",
       "        vertical-align: top;\n",
       "    }\n",
       "\n",
       "    .dataframe thead th {\n",
       "        text-align: right;\n",
       "    }\n",
       "</style>\n",
       "<table border=\"1\" class=\"dataframe\">\n",
       "  <thead>\n",
       "    <tr style=\"text-align: right;\">\n",
       "      <th></th>\n",
       "      <th>Rent</th>\n",
       "      <th>Beds</th>\n",
       "      <th>Baths</th>\n",
       "      <th>Type</th>\n",
       "      <th>Area_in_sqft</th>\n",
       "      <th>Rent_per_sqft</th>\n",
       "      <th>Rent_category</th>\n",
       "      <th>Furnishing</th>\n",
       "      <th>Age_of_listing_in_days</th>\n",
       "      <th>Latitude</th>\n",
       "      <th>Longitude</th>\n",
       "    </tr>\n",
       "  </thead>\n",
       "  <tbody>\n",
       "    <tr>\n",
       "      <th>count</th>\n",
       "      <td>7.374200e+04</td>\n",
       "      <td>73742.000000</td>\n",
       "      <td>73742.000000</td>\n",
       "      <td>73742.000000</td>\n",
       "      <td>73742.000000</td>\n",
       "      <td>73742.000000</td>\n",
       "      <td>73742.000000</td>\n",
       "      <td>73742.000000</td>\n",
       "      <td>73742.000000</td>\n",
       "      <td>73742.000000</td>\n",
       "      <td>73742.000000</td>\n",
       "    </tr>\n",
       "    <tr>\n",
       "      <th>mean</th>\n",
       "      <td>1.479250e+05</td>\n",
       "      <td>2.162811</td>\n",
       "      <td>2.650213</td>\n",
       "      <td>0.313675</td>\n",
       "      <td>2054.053552</td>\n",
       "      <td>88.057754</td>\n",
       "      <td>0.988595</td>\n",
       "      <td>0.212633</td>\n",
       "      <td>74.261547</td>\n",
       "      <td>24.918929</td>\n",
       "      <td>55.053133</td>\n",
       "    </tr>\n",
       "    <tr>\n",
       "      <th>std</th>\n",
       "      <td>3.069658e+05</td>\n",
       "      <td>1.578155</td>\n",
       "      <td>1.632997</td>\n",
       "      <td>0.669444</td>\n",
       "      <td>3003.919252</td>\n",
       "      <td>66.534400</td>\n",
       "      <td>0.817864</td>\n",
       "      <td>0.409173</td>\n",
       "      <td>72.346767</td>\n",
       "      <td>0.566573</td>\n",
       "      <td>0.650527</td>\n",
       "    </tr>\n",
       "    <tr>\n",
       "      <th>min</th>\n",
       "      <td>0.000000e+00</td>\n",
       "      <td>0.000000</td>\n",
       "      <td>1.000000</td>\n",
       "      <td>0.000000</td>\n",
       "      <td>74.000000</td>\n",
       "      <td>0.000000</td>\n",
       "      <td>0.000000</td>\n",
       "      <td>0.000000</td>\n",
       "      <td>11.000000</td>\n",
       "      <td>15.175847</td>\n",
       "      <td>43.351928</td>\n",
       "    </tr>\n",
       "    <tr>\n",
       "      <th>25%</th>\n",
       "      <td>5.499900e+04</td>\n",
       "      <td>1.000000</td>\n",
       "      <td>2.000000</td>\n",
       "      <td>0.000000</td>\n",
       "      <td>850.000000</td>\n",
       "      <td>39.977778</td>\n",
       "      <td>0.000000</td>\n",
       "      <td>0.000000</td>\n",
       "      <td>30.000000</td>\n",
       "      <td>24.493598</td>\n",
       "      <td>54.607372</td>\n",
       "    </tr>\n",
       "    <tr>\n",
       "      <th>50%</th>\n",
       "      <td>9.800000e+04</td>\n",
       "      <td>2.000000</td>\n",
       "      <td>2.000000</td>\n",
       "      <td>0.000000</td>\n",
       "      <td>1334.000000</td>\n",
       "      <td>71.428571</td>\n",
       "      <td>1.000000</td>\n",
       "      <td>0.000000</td>\n",
       "      <td>52.000000</td>\n",
       "      <td>25.077802</td>\n",
       "      <td>55.219353</td>\n",
       "    </tr>\n",
       "    <tr>\n",
       "      <th>75%</th>\n",
       "      <td>1.700000e+05</td>\n",
       "      <td>3.000000</td>\n",
       "      <td>3.000000</td>\n",
       "      <td>0.000000</td>\n",
       "      <td>2130.000000</td>\n",
       "      <td>118.483412</td>\n",
       "      <td>2.000000</td>\n",
       "      <td>0.000000</td>\n",
       "      <td>95.000000</td>\n",
       "      <td>25.197978</td>\n",
       "      <td>55.361196</td>\n",
       "    </tr>\n",
       "    <tr>\n",
       "      <th>max</th>\n",
       "      <td>5.500000e+07</td>\n",
       "      <td>12.000000</td>\n",
       "      <td>11.000000</td>\n",
       "      <td>8.000000</td>\n",
       "      <td>210254.000000</td>\n",
       "      <td>2182.044888</td>\n",
       "      <td>2.000000</td>\n",
       "      <td>1.000000</td>\n",
       "      <td>2276.000000</td>\n",
       "      <td>25.920310</td>\n",
       "      <td>56.361294</td>\n",
       "    </tr>\n",
       "  </tbody>\n",
       "</table>\n",
       "</div>"
      ],
      "text/plain": [
       "               Rent          Beds         Baths          Type   Area_in_sqft  \\\n",
       "count  7.374200e+04  73742.000000  73742.000000  73742.000000   73742.000000   \n",
       "mean   1.479250e+05      2.162811      2.650213      0.313675    2054.053552   \n",
       "std    3.069658e+05      1.578155      1.632997      0.669444    3003.919252   \n",
       "min    0.000000e+00      0.000000      1.000000      0.000000      74.000000   \n",
       "25%    5.499900e+04      1.000000      2.000000      0.000000     850.000000   \n",
       "50%    9.800000e+04      2.000000      2.000000      0.000000    1334.000000   \n",
       "75%    1.700000e+05      3.000000      3.000000      0.000000    2130.000000   \n",
       "max    5.500000e+07     12.000000     11.000000      8.000000  210254.000000   \n",
       "\n",
       "       Rent_per_sqft  Rent_category    Furnishing  Age_of_listing_in_days  \\\n",
       "count   73742.000000   73742.000000  73742.000000            73742.000000   \n",
       "mean       88.057754       0.988595      0.212633               74.261547   \n",
       "std        66.534400       0.817864      0.409173               72.346767   \n",
       "min         0.000000       0.000000      0.000000               11.000000   \n",
       "25%        39.977778       0.000000      0.000000               30.000000   \n",
       "50%        71.428571       1.000000      0.000000               52.000000   \n",
       "75%       118.483412       2.000000      0.000000               95.000000   \n",
       "max      2182.044888       2.000000      1.000000             2276.000000   \n",
       "\n",
       "           Latitude     Longitude  \n",
       "count  73742.000000  73742.000000  \n",
       "mean      24.918929     55.053133  \n",
       "std        0.566573      0.650527  \n",
       "min       15.175847     43.351928  \n",
       "25%       24.493598     54.607372  \n",
       "50%       25.077802     55.219353  \n",
       "75%       25.197978     55.361196  \n",
       "max       25.920310     56.361294  "
      ]
     },
     "execution_count": 21,
     "metadata": {},
     "output_type": "execute_result"
    }
   ],
   "source": [
    "df.describe()"
   ]
  },
  {
   "cell_type": "code",
   "execution_count": 22,
   "id": "fedef6f5",
   "metadata": {},
   "outputs": [],
   "source": [
    "x = df.drop(['Frequency', 'Address', 'Purpose', 'Posted_date', 'Rent'], axis=1)\n",
    "y = df[['Rent']]"
   ]
  },
  {
   "cell_type": "code",
   "execution_count": 23,
   "id": "b0d50db4",
   "metadata": {},
   "outputs": [],
   "source": [
    "x=pd.get_dummies(df,drop_first=True)"
   ]
  },
  {
   "cell_type": "code",
   "execution_count": 24,
   "id": "b8d10904",
   "metadata": {},
   "outputs": [],
   "source": [
    "import tensorflow as tf\n",
    "from tensorflow.keras.models import Sequential\n",
    "from tensorflow.keras.layers import Dense,Conv2D, InputLayer, Reshape, MaxPooling2D, Flatten,Dropout, BatchNormalization\n",
    "from sklearn.model_selection import train_test_split"
   ]
  },
  {
   "cell_type": "code",
   "execution_count": 26,
   "id": "fd2928d0",
   "metadata": {},
   "outputs": [],
   "source": [
    "x_train,x_test,y_train,y_test=train_test_split(x,y,test_size=.20,random_state=42)"
   ]
  },
  {
   "cell_type": "code",
   "execution_count": 27,
   "id": "726e7bce",
   "metadata": {},
   "outputs": [],
   "source": [
    "model=Sequential()\n",
    "model.add(Dense(120,activation='relu'))\n",
    "model.add(Dense(80,activation='relu'))\n",
    "model.add(Dense(64,activation='relu'))\n",
    "model.add(Dense(30,activation='relu'))\n",
    "model.add(Dense(20,activation='relu'))\n",
    "model.add(Dense(4,activation='relu'))\n",
    "model.add(Dense(1)) \n",
    "model.compile(loss='mse', optimizer='adam')"
   ]
  },
  {
   "cell_type": "code",
   "execution_count": 28,
   "id": "fbdc56dc",
   "metadata": {},
   "outputs": [
    {
     "name": "stdout",
     "output_type": "stream",
     "text": [
      "Epoch 1/10\n",
      "\u001b[1m461/461\u001b[0m \u001b[32m━━━━━━━━━━━━━━━━━━━━\u001b[0m\u001b[37m\u001b[0m \u001b[1m3s\u001b[0m 6ms/step - loss: 12378398720.0000 - val_loss: 37958.0000\n",
      "Epoch 2/10\n",
      "\u001b[1m461/461\u001b[0m \u001b[32m━━━━━━━━━━━━━━━━━━━━\u001b[0m\u001b[37m\u001b[0m \u001b[1m2s\u001b[0m 5ms/step - loss: 93367.9922 - val_loss: 381053.3750\n",
      "Epoch 3/10\n",
      "\u001b[1m461/461\u001b[0m \u001b[32m━━━━━━━━━━━━━━━━━━━━\u001b[0m\u001b[37m\u001b[0m \u001b[1m2s\u001b[0m 5ms/step - loss: 53520.5039 - val_loss: 9457.6699\n",
      "Epoch 4/10\n",
      "\u001b[1m461/461\u001b[0m \u001b[32m━━━━━━━━━━━━━━━━━━━━\u001b[0m\u001b[37m\u001b[0m \u001b[1m2s\u001b[0m 5ms/step - loss: 2054270.2500 - val_loss: 47532.9766\n",
      "Epoch 5/10\n",
      "\u001b[1m461/461\u001b[0m \u001b[32m━━━━━━━━━━━━━━━━━━━━\u001b[0m\u001b[37m\u001b[0m \u001b[1m2s\u001b[0m 4ms/step - loss: 14835.1377 - val_loss: 225169.8594\n",
      "Epoch 6/10\n",
      "\u001b[1m461/461\u001b[0m \u001b[32m━━━━━━━━━━━━━━━━━━━━\u001b[0m\u001b[37m\u001b[0m \u001b[1m2s\u001b[0m 4ms/step - loss: 494269.3750 - val_loss: 13610206.0000\n",
      "Epoch 7/10\n",
      "\u001b[1m461/461\u001b[0m \u001b[32m━━━━━━━━━━━━━━━━━━━━\u001b[0m\u001b[37m\u001b[0m \u001b[1m2s\u001b[0m 4ms/step - loss: 14698509.0000 - val_loss: 6381974.0000\n",
      "Epoch 8/10\n",
      "\u001b[1m461/461\u001b[0m \u001b[32m━━━━━━━━━━━━━━━━━━━━\u001b[0m\u001b[37m\u001b[0m \u001b[1m2s\u001b[0m 4ms/step - loss: 567528.0000 - val_loss: 152049.5469\n",
      "Epoch 9/10\n",
      "\u001b[1m461/461\u001b[0m \u001b[32m━━━━━━━━━━━━━━━━━━━━\u001b[0m\u001b[37m\u001b[0m \u001b[1m2s\u001b[0m 4ms/step - loss: 574938.3125 - val_loss: 17720.3340\n",
      "Epoch 10/10\n",
      "\u001b[1m461/461\u001b[0m \u001b[32m━━━━━━━━━━━━━━━━━━━━\u001b[0m\u001b[37m\u001b[0m \u001b[1m2s\u001b[0m 4ms/step - loss: 66554.0078 - val_loss: 140785008.0000\n"
     ]
    }
   ],
   "source": [
    "history=model.fit(x_train,y_train, validation_data=(x_test,y_test),batch_size=128,epochs=10,verbose=1)"
   ]
  },
  {
   "cell_type": "code",
   "execution_count": 29,
   "id": "83c47319",
   "metadata": {},
   "outputs": [
    {
     "name": "stdout",
     "output_type": "stream",
     "text": [
      "\u001b[1m461/461\u001b[0m \u001b[32m━━━━━━━━━━━━━━━━━━━━\u001b[0m\u001b[37m\u001b[0m \u001b[1m0s\u001b[0m 583us/step\n"
     ]
    }
   ],
   "source": [
    "tahmin=model.predict(x_test)"
   ]
  },
  {
   "cell_type": "code",
   "execution_count": 30,
   "id": "0e0dff0b",
   "metadata": {},
   "outputs": [],
   "source": [
    "from sklearn.metrics import r2_score, mean_squared_error"
   ]
  },
  {
   "cell_type": "code",
   "execution_count": 31,
   "id": "03be8c15",
   "metadata": {},
   "outputs": [
    {
     "data": {
      "text/plain": [
       "0.9994942751508415"
      ]
     },
     "execution_count": 31,
     "metadata": {},
     "output_type": "execute_result"
    }
   ],
   "source": [
    "r2_score(y_test,tahmin)"
   ]
  },
  {
   "cell_type": "code",
   "execution_count": 32,
   "id": "d3d299da",
   "metadata": {},
   "outputs": [
    {
     "data": {
      "text/plain": [
       "11865.280995236879"
      ]
     },
     "execution_count": 32,
     "metadata": {},
     "output_type": "execute_result"
    }
   ],
   "source": [
    "mean_squared_error(y_test,tahmin)**.5"
   ]
  },
  {
   "cell_type": "code",
   "execution_count": 33,
   "id": "35cb3de7",
   "metadata": {},
   "outputs": [],
   "source": [
    "model.save('Dubai.keras')"
   ]
  },
  {
   "cell_type": "code",
   "execution_count": 34,
   "id": "a56a0d6a",
   "metadata": {},
   "outputs": [
    {
     "data": {
      "image/png": "[encoded data removed]",
      "text/plain": [
       "<Figure size 640x480 with 1 Axes>"
      ]
     },
     "metadata": {},
     "output_type": "display_data"
    }
   ],
   "source": [
    "loss_f=pd.DataFrame(history.history)\n",
    "loss_f.plot();"
   ]
  },
  {
   "cell_type": "markdown",
   "id": "d60b09e0",
   "metadata": {},
   "source": [
    "# r2_score 0.99\n",
    "# We see that Dubai and Abu Dhabi are expensive"
   ]
  }
 ],
 "metadata": {
  "kernelspec": {
   "display_name": "Python 3 (ipykernel)",
   "language": "python",
   "name": "python3"
  },
  "language_info": {
   "codemirror_mode": {
    "name": "ipython",
    "version": 3
   },
   "file_extension": ".py",
   "mimetype": "text/x-python",
   "name": "python",
   "nbconvert_exporter": "python",
   "pygments_lexer": "ipython3",
   "version": "3.11.7"
  }
 },
 "nbformat": 4,
 "nbformat_minor": 5
}
